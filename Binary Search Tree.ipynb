{
 "cells": [
  {
   "cell_type": "code",
   "execution_count": 13,
   "id": "cooperative-nowhere",
   "metadata": {},
   "outputs": [
    {
     "name": "stdout",
     "output_type": "stream",
     "text": [
      "Enter your Root node6\n",
      "enter the node you want to insert3\n",
      "Do you want to continue Y or Ny\n",
      "enter the node you want to insert4\n",
      "Do you want to continue Y or Ny\n",
      "enter the node you want to insert9\n",
      "Do you want to continue Y or Ny\n",
      "enter the node you want to insert2\n",
      "Do you want to continue Y or Nn\n",
      "Your final binary search tree is\n",
      "\n",
      "2\n",
      "3\n",
      "4\n",
      "6\n",
      "9\n"
     ]
    }
   ],
   "source": [
    "#a program used to demonstrate simple operations in a binary search tree\n",
    "\n",
    "class Node:\n",
    "    def __init__(self,node):\n",
    "        self.left=None\n",
    "        self.right=None\n",
    "        self.node=node\n",
    "    def insert(self,objnode):\n",
    "        if self.node:\n",
    "            if objnode<self.node:\n",
    "                if self.left is None:\n",
    "                    self.left=Node(objnode)\n",
    "                else:\n",
    "                    self.left.insert(objnode)\n",
    "            elif objnode>self.node:\n",
    "                if self.right is None:\n",
    "                    self.right=Node(objnode)\n",
    "                else:\n",
    "                    self.right.insert(objnode)\n",
    "            else:\n",
    "                self.node=objnode\n",
    "    def printBST(self):\n",
    "        if self.left:\n",
    "            self.left.printBST()\n",
    "        print(self.node)\n",
    "        if self.right:\n",
    "            self.right.printBST()\n",
    "            \n",
    "n=int(input('Enter your Root node'))\n",
    "root=Node(n)\n",
    "while 1:\n",
    "    a=int(input(\"enter the node you want to insert\"))\n",
    "    root.insert(a)\n",
    "    ch=input(\"Do you want to continue Y or N\")\n",
    "    if ch==\"Y\"or ch==\"y\":\n",
    "        continue\n",
    "    else:\n",
    "        break\n",
    "print(\"Your final binary search tree is\\n\")\n",
    "root.printBST()\n",
    "            "
   ]
  },
  {
   "cell_type": "code",
   "execution_count": null,
   "id": "satellite-guitar",
   "metadata": {},
   "outputs": [],
   "source": []
  }
 ],
 "metadata": {
  "kernelspec": {
   "display_name": "Python 3",
   "language": "python",
   "name": "python3"
  },
  "language_info": {
   "codemirror_mode": {
    "name": "ipython",
    "version": 3
   },
   "file_extension": ".py",
   "mimetype": "text/x-python",
   "name": "python",
   "nbconvert_exporter": "python",
   "pygments_lexer": "ipython3",
   "version": "3.8.7"
  }
 },
 "nbformat": 4,
 "nbformat_minor": 5
}
